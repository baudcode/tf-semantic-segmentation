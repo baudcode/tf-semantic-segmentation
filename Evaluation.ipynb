{
 "cells": [
  {
   "cell_type": "code",
   "execution_count": 2,
   "metadata": {},
   "outputs": [],
   "source": [
    "from python_keras_semantic_segmentation.datasets.tfrecord import TFReader\n",
    "\n",
    "record_dir = '/hdd/datasets/shapes/records/'\n",
    "reader = TFReader(record_dir)"
   ]
  },
  {
   "cell_type": "code",
   "execution_count": 3,
   "metadata": {},
   "outputs": [
    {
     "name": "stdout",
     "output_type": "stream",
     "text": [
      "input size:  (128, 128)\n"
     ]
    }
   ],
   "source": [
    "import tensorflow_addons as tfa\n",
    "from tensorflow.keras.models import load_model\n",
    "import os\n",
    "\n",
    "log_dir = \"/home/baudcode/Code/python-keras-semantic-segmentation/logs/shapes_logs_erfnet_128x128_bs_8_rgb_ranger_lr_1e-3\"\n",
    "model = load_model(os.path.join(log_dir, 'model-best.h5'), compile=False)\n",
    "input_size = model.inputs[0].shape[1:3][::-1]\n",
    "print(\"input size: \", input_size)"
   ]
  },
  {
   "cell_type": "code",
   "execution_count": 4,
   "metadata": {},
   "outputs": [
    {
     "name": "stderr",
     "output_type": "stream",
     "text": [
      "2019-12-30 21:07:39,343 - DEBUG - TFReader found these (2) files: ['/hdd/datasets/shapes/records/test/data-0.tfrecord', '/hdd/datasets/shapes/records/test/data-1.tfrecord']\n"
     ]
    },
    {
     "name": "stdout",
     "output_type": "stream",
     "text": [
      "<BatchDataset shapes: ((None, 128, 128, None), (None, 128, 128, None)), types: (tf.float32, tf.float32)>\n"
     ]
    }
   ],
   "source": [
    "from python_keras_semantic_segmentation.datasets import DataType\n",
    "from python_keras_semantic_segmentation.processing.pre_dataset import get_preprocess_fn\n",
    "\n",
    "test_ds = reader.get_dataset(DataType.TEST)\n",
    "test_ds = test_ds.map(get_preprocess_fn(input_size))\n",
    "test_ds = test_ds.batch(1)\n",
    "print(test_ds)"
   ]
  },
  {
   "cell_type": "code",
   "execution_count": 5,
   "metadata": {},
   "outputs": [],
   "source": [
    "import tensorflow as tf\n",
    "\n",
    "# get an example from the dataset\n",
    "it = tf.compat.v1.data.make_one_shot_iterator(test_ds)\n",
    "image_batch, mask_batch = next(it)"
   ]
  },
  {
   "cell_type": "code",
   "execution_count": 6,
   "metadata": {},
   "outputs": [
    {
     "data": {
      "image/png": "[encoded data removed]",
      "text/plain": [
       "<Figure size 1296x864 with 3 Axes>"
      ]
     },
     "metadata": {
      "needs_background": "light"
     },
     "output_type": "display_data"
    }
   ],
   "source": [
    "%matplotlib inline\n",
    "from python_keras_semantic_segmentation.visualizations import show\n",
    "\n",
    "# show predictions\n",
    "predict_batch = model.predict_on_batch(image_batch)\n",
    "show.show_images([image_batch[0], mask_batch[0], predict_batch[0]], titles=['image', 'target','prediction'])\n",
    "\n",
    "# visualize classes\n",
    "def draw_text_in_image(img, text, pos, color, line_width):\n",
    "    font = cv2.FONT_HERSHEY_PLAIN\n",
    "    fontScale = 1\n",
    "    lineType = 1\n",
    "    bottomLeftCornerOfText = pos\n",
    "    cv2.putText(img, text,\n",
    "            bottomLeftCornerOfText,\n",
    "            font,\n",
    "            fontScale,\n",
    "            color,\n",
    "            lineType)\n",
    "    text_width, _ = cv2.getTextSize(text, font, fontScale, lineType)[0]\n",
    "    return img, (line_width + text_width)\n"
   ]
  },
  {
   "cell_type": "code",
   "execution_count": 26,
   "metadata": {},
   "outputs": [
    {
     "name": "stdout",
     "output_type": "stream",
     "text": [
      "(1, 128, 128, 3)\n",
      "1\n",
      "IOU (by class): [0.9933394160583942, 0.9867200291067855, 0.0]\n",
      "mIOU: 0.6600198150550599\n",
      "0.97047997\n",
      "0.9848585\n",
      "0.9817309\n",
      "0.9903582\n",
      "0.9797149\n"
     ]
    }
   ],
   "source": [
    "# !pip install sklearn\n",
    "# print metrics\n",
    "from python_keras_semantic_segmentation.eval import metrics\n",
    "from python_keras_semantic_segmentation.losses import all as al\n",
    "import numpy as np\n",
    "\n",
    "# convert from eager tensor to numpy\n",
    "if type(mask_batch) != np.ndarray:\n",
    "    mask_batch = mask_batch.numpy()\n",
    "\n",
    "print(mask_batch.shape)\n",
    "\n",
    "mask_batch = mask_batch.round().astype(np.uint8)\n",
    "predict_batch = predict_batch.round().astype(np.uint8)\n",
    "\n",
    "print(predict_batch.max())\n",
    "\n",
    "iou = metrics.iou_classwise(mask_batch, predict_batch, 3).tolist()\n",
    "print(\"IOU (by class):\", iou)\n",
    "print(\"mIOU:\", np.mean(iou))\n",
    "\n",
    "print(al.iou_score(mask_batch.astype(np.float32), predict_batch.astype(np.float32)).numpy())\n",
    "print(al.f_score(mask_batch.astype(np.float32), predict_batch.astype(np.float32)).numpy())\n",
    "print(al.f_score(mask_batch.astype(np.float32), predict_batch.astype(np.float32), beta=2).numpy())\n",
    "print(al.precision(mask_batch.astype(np.float32), predict_batch.astype(np.float32), beta=2).numpy())\n",
    "print(al.recall(mask_batch.astype(np.float32), predict_batch.astype(np.float32), beta=2).numpy())"
   ]
  },
  {
   "cell_type": "code",
   "execution_count": null,
   "metadata": {},
   "outputs": [],
   "source": []
  }
 ],
 "metadata": {
  "kernelspec": {
   "display_name": "Python 3",
   "language": "python",
   "name": "python3"
  },
  "language_info": {
   "codemirror_mode": {
    "name": "ipython",
    "version": 3
   },
   "file_extension": ".py",
   "mimetype": "text/x-python",
   "name": "python",
   "nbconvert_exporter": "python",
   "pygments_lexer": "ipython3",
   "version": "3.7.5"
  }
 },
 "nbformat": 4,
 "nbformat_minor": 2
}
