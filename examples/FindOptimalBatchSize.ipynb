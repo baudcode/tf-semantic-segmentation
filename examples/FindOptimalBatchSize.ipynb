{
 "cells": [
  {
   "cell_type": "code",
   "execution_count": 4,
   "metadata": {},
   "outputs": [
    {
     "name": "stdout",
     "output_type": "stream",
     "text": [
      "testing batch size 1 on model unet\n",
      "WARNING:tensorflow:`period` argument is deprecated. Please use `save_freq` to specify the frequency in number of batches seen.\n"
     ]
    },
    {
     "name": "stderr",
     "output_type": "stream",
     "text": [
      "creating shapes dataset: 100%|██████████| 1000/1000 [00:00<00:00, 25986.69it/s]\n"
     ]
    },
    {
     "name": "stdout",
     "output_type": "stream",
     "text": [
      "10/10 [==============================] - 2s 94ms/step - loss: 1.8998 - f1_score: 0.1369 - iou_score: 0.0834\n",
      "WARNING:tensorflow:Can save best model only with val_loss available, skipping.\n",
      "testing batch size 2 on model unet\n",
      "WARNING:tensorflow:`period` argument is deprecated. Please use `save_freq` to specify the frequency in number of batches seen.\n"
     ]
    },
    {
     "name": "stderr",
     "output_type": "stream",
     "text": [
      "creating shapes dataset: 100%|██████████| 1000/1000 [00:00<00:00, 21184.53it/s]\n"
     ]
    },
    {
     "name": "stdout",
     "output_type": "stream",
     "text": [
      "10/10 [==============================] - 3s 140ms/step - loss: 2.0107 - f1_score: 0.1084 - iou_score: 0.0652\n",
      "WARNING:tensorflow:Can save best model only with val_loss available, skipping.\n",
      "testing batch size 4 on model unet\n",
      "WARNING:tensorflow:`period` argument is deprecated. Please use `save_freq` to specify the frequency in number of batches seen.\n"
     ]
    },
    {
     "name": "stderr",
     "output_type": "stream",
     "text": [
      "creating shapes dataset: 100%|██████████| 1000/1000 [00:00<00:00, 22058.22it/s]\n"
     ]
    },
    {
     "name": "stdout",
     "output_type": "stream",
     "text": [
      "10/10 [==============================] - 4s 242ms/step - loss: 1.5501 - f1_score: 0.1514 - iou_score: 0.0960\n",
      "WARNING:tensorflow:Can save best model only with val_loss available, skipping.\n",
      "testing batch size 8 on model unet\n",
      "WARNING:tensorflow:`period` argument is deprecated. Please use `save_freq` to specify the frequency in number of batches seen.\n"
     ]
    },
    {
     "name": "stderr",
     "output_type": "stream",
     "text": [
      "creating shapes dataset: 100%|██████████| 1000/1000 [00:00<00:00, 25480.25it/s]\n"
     ]
    },
    {
     "name": "stdout",
     "output_type": "stream",
     "text": [
      "10/10 [==============================] - 10s 429ms/step - loss: 1.8959 - f1_score: 0.1490 - iou_score: 0.0903\n",
      "WARNING:tensorflow:Can save best model only with val_loss available, skipping.\n",
      "testing batch size 16 on model unet\n",
      "WARNING:tensorflow:`period` argument is deprecated. Please use `save_freq` to specify the frequency in number of batches seen.\n"
     ]
    },
    {
     "name": "stderr",
     "output_type": "stream",
     "text": [
      "creating shapes dataset: 100%|██████████| 1000/1000 [00:00<00:00, 24954.06it/s]\n"
     ]
    },
    {
     "name": "stdout",
     "output_type": "stream",
     "text": [
      "\n",
      "optimal batch size:  8\n"
     ]
    }
   ],
   "source": [
    "from tf_semantic_segmentation.bin.train import get_args, train_test_model, find_optimal_batch_size\n",
    "\n",
    "args = get_args({})\n",
    "\n",
    "args.data_dir = './data'\n",
    "args.model = \"unet\"\n",
    "args.augmentations = []\n",
    "\n",
    "args.dataset = 'shapes'\n",
    "args.dataset_args = {\"num_examples\": 1000}\n",
    "args.train_on_generator = True\n",
    "args.size = [256, 256]\n",
    "args.resize_method = 'resize' # use normal resize\n",
    "args.validation_freq = 100 # validate every 10 epochs\n",
    "\n",
    "args.mixed_float16 = False\n",
    "\n",
    "# disable\n",
    "args.no_tensorboard = True # do not log other images/metrics\n",
    "args.no_evaluate = True\n",
    "args.no_early_stopping = True\n",
    "args.no_save_model_weights = True\n",
    "args.no_export_saved_model = True\n",
    "\n",
    "# loss and corresponding activation function\n",
    "args.loss = 'categorical_crossentropy'\n",
    "args.final_activation = \"softmax\"\n",
    "args.metrics = ['f1_score', 'iou_score']\n",
    "\n",
    "\n",
    "print(\"\\noptimal batch size: \", find_optimal_batch_size(args, steps_per_epoch=10))"
   ]
  }
 ],
 "metadata": {
  "kernelspec": {
   "display_name": "tf-semantic-segmentation",
   "language": "python",
   "name": "tf-semantic-segmentation"
  },
  "language_info": {
   "codemirror_mode": {
    "name": "ipython",
    "version": 3
   },
   "file_extension": ".py",
   "mimetype": "text/x-python",
   "name": "python",
   "nbconvert_exporter": "python",
   "pygments_lexer": "ipython3",
   "version": "3.8.5"
  }
 },
 "nbformat": 4,
 "nbformat_minor": 4
}
