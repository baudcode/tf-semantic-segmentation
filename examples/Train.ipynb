{
 "cells": [
  {
   "cell_type": "markdown",
   "metadata": {},
   "source": [
    "### Simply train on of the shipped models"
   ]
  },
  {
   "cell_type": "code",
   "execution_count": null,
   "metadata": {
    "scrolled": true
   },
   "outputs": [],
   "source": [
    "from tf_semantic_segmentation.bin import train\n",
    "from pprint import pprint\n",
    "# get the default arguments\n",
    "args = train.get_args({})\n",
    "\n",
    "args.model = 'unet'\n",
    "args.batch_size = 4\n",
    "args.epochs = 20\n",
    "args.gpus = [0] # list of all gpus to use for training\n",
    "args.color_mode = 0 # RGB, 1 = GRAY\n",
    "args.size = [512, 512] # height, width\n",
    "\n",
    "# optimizer with learning rate\n",
    "args.optmizer = 'ranger'\n",
    "args.learning_rate = 1e-4\n",
    "\n",
    "# define the loss with metrics\n",
    "args.loss = 'dice_binary_crossentropy'\n",
    "args.final_activation = 'sigmoid'\n",
    "args.metrics = ['iou_score', 'f1_score']\n",
    "\n",
    "# use the taco binary dataset (0=no_plastic, 1=plastic)\n",
    "args.dataset = 'tacobinary'\n",
    "args.train_on_generator = True\n",
    "args.buffer_size = 50 # increase this depending on how much RAM you have available\n",
    "\n",
    "# tensorboard parameters\n",
    "args.tensorboard_train_images_update_batch_freq = 100 # show predictions during training, every 100 steps\n",
    "args.tensorboard_val_images = True # show val predictions at the end of every epoch\n",
    "\n",
    "pprint(vars(args))\n",
    "\n",
    "\n",
    "# start training\n",
    "train.train_test_model(args)"
   ]
  },
  {
   "cell_type": "markdown",
   "metadata": {},
   "source": [
    "### Train our own model"
   ]
  },
  {
   "cell_type": "code",
   "execution_count": null,
   "metadata": {},
   "outputs": [],
   "source": [
    "from tensorflow.keras.models import Model\n",
    "from tensorflow.keras.layers import Input, Conv2D\n",
    "\n",
    "def model_fn(input_shape=(256, 256, 3), num_classes=2):\n",
    "    i = Input(input_shape)\n",
    "    y = Conv2D(num_classes, kernel_size=(1, 1))(i)\n",
    "    return Model(inputs=i, outputs=y)\n",
    "\n",
    "\n",
    "args.model = model_fn\n",
    "train.train_test_model(args)"
   ]
  }
 ],
 "metadata": {
  "kernelspec": {
   "display_name": "Python 3",
   "language": "python",
   "name": "python3"
  },
  "language_info": {
   "codemirror_mode": {
    "name": "ipython",
    "version": 3
   },
   "file_extension": ".py",
   "mimetype": "text/x-python",
   "name": "python",
   "nbconvert_exporter": "python",
   "pygments_lexer": "ipython3",
   "version": "3.7.6"
  }
 },
 "nbformat": 4,
 "nbformat_minor": 4
}
